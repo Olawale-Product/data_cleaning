{
 "cells": [
  {
   "cell_type": "markdown",
   "metadata": {},
   "source": [
    "## Mising and Invalid Data\n",
    "\n",
    "\n",
    "* It is often the case that the data we receive has missing * \\\n",
    "information in some columns. For instance, some customer’s\n",
    "data might be missing their age. If the data has a large\\\n",
    "number of missing entries, the result of data analysis may be\n",
    "unpredictable or even wrong. Missing values in a dataset can\\\n",
    "be either\n",
    "· Ignored,\n",
    "· Filled-in, or\n",
    "· Removed or dropped.\n"
   ]
  },
  {
   "cell_type": "code",
   "execution_count": 24,
   "metadata": {},
   "outputs": [
    {
     "name": "stdout",
     "output_type": "stream",
     "text": [
      "0    10.0\n",
      "1    20.0\n",
      "2    30.0\n",
      "3     NaN\n",
      "4    40.0\n",
      "5    50.0\n",
      "6     NaN\n",
      "dtype: float64\n"
     ]
    },
    {
     "data": {
      "text/plain": [
       "0    10.0\n",
       "1    20.0\n",
       "2    30.0\n",
       "4    40.0\n",
       "5    50.0\n",
       "dtype: float64"
      ]
     },
     "execution_count": 24,
     "metadata": {},
     "output_type": "execute_result"
    }
   ],
   "source": [
    "import numpy as np\n",
    "import pandas as pd\n",
    "myseries4 = pd.Series([10, 20, 30, None, 40, 50, np.NaN], index=[0,1,2,3,4,5,6]) \n",
    "\n",
    "\n",
    "print(myseries4)\n",
    "results = myseries4.isnull()\n",
    "nnol =[ not(x) for x in results]\n",
    "myseries4[nnol]"
   ]
  },
  {
   "cell_type": "markdown",
   "metadata": {},
   "source": [
    "# We can drop the missing values by using the function `dropna( ).`"
   ]
  },
  {
   "cell_type": "code",
   "execution_count": 23,
   "metadata": {},
   "outputs": [
    {
     "data": {
      "text/plain": [
       "0    10.0\n",
       "1    20.0\n",
       "2    30.0\n",
       "4    40.0\n",
       "5    50.0\n",
       "dtype: float64"
      ]
     },
     "execution_count": 23,
     "metadata": {},
     "output_type": "execute_result"
    }
   ],
   "source": [
    "myseries4_dropped = myseries4.dropna()\n",
    "myseries4_dropped"
   ]
  },
  {
   "cell_type": "markdown",
   "metadata": {},
   "source": [
    "** The process in which the missing values are filled-in is called\n",
    "“data imputation.” One of the widely used techniques is mean\n",
    "value imputation, where we impute the missing values by the\n",
    "average value of that particular column in which the value is\n",
    "missing. **"
   ]
  },
  {
   "cell_type": "code",
   "execution_count": 25,
   "metadata": {},
   "outputs": [
    {
     "data": {
      "text/plain": [
       "0    10.0\n",
       "1    20.0\n",
       "2    30.0\n",
       "3    30.0\n",
       "4    40.0\n",
       "5    50.0\n",
       "6    30.0\n",
       "dtype: float64"
      ]
     },
     "execution_count": 25,
     "metadata": {},
     "output_type": "execute_result"
    }
   ],
   "source": [
    "myseries4_filled = myseries4.fillna(myseries4.mean())\n",
    "myseries4_filled"
   ]
  },
  {
   "cell_type": "code",
   "execution_count": null,
   "metadata": {},
   "outputs": [],
   "source": []
  }
 ],
 "metadata": {
  "interpreter": {
   "hash": "433c71e7cbe1d297b214140bef693683b2b4d2c4ece66900817174fa8d62bfe2"
  },
  "kernelspec": {
   "display_name": "Python 3.9.12 ('bookData')",
   "language": "python",
   "name": "python3"
  },
  "language_info": {
   "codemirror_mode": {
    "name": "ipython",
    "version": 3
   },
   "file_extension": ".py",
   "mimetype": "text/x-python",
   "name": "python",
   "nbconvert_exporter": "python",
   "pygments_lexer": "ipython3",
   "version": "3.9.12"
  },
  "orig_nbformat": 4
 },
 "nbformat": 4,
 "nbformat_minor": 2
}
