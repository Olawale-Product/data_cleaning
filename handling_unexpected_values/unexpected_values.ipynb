{
 "cells": [
  {
   "cell_type": "markdown",
   "metadata": {},
   "source": [
    "# Handling Unexpected Values\n",
    "**Outliers are values outside the expected range of a feature.\n",
    "Common causes of outliers include:\n",
    "· Human errors during data entry; Data Preparation (Preprocessing)\n",
    "· Measurement (instrument) errors;\n",
    "· Experimental errors during data extraction or\n",
    "manipulation and\n",
    "· Intentional errors to test the accuracy of outlier\n",
    "detection methods.**"
   ]
  },
  {
   "cell_type": "markdown",
   "metadata": {},
   "source": [
    "*During the data preparation and analysis, we have to detect\n",
    "the presence of unexpected values within a data structure.*"
   ]
  },
  {
   "cell_type": "code",
   "execution_count": 2,
   "metadata": {},
   "outputs": [
    {
     "data": {
      "text/html": [
       "<div>\n",
       "<style scoped>\n",
       "    .dataframe tbody tr th:only-of-type {\n",
       "        vertical-align: middle;\n",
       "    }\n",
       "\n",
       "    .dataframe tbody tr th {\n",
       "        vertical-align: top;\n",
       "    }\n",
       "\n",
       "    .dataframe thead th {\n",
       "        text-align: right;\n",
       "    }\n",
       "</style>\n",
       "<table border=\"1\" class=\"dataframe\">\n",
       "  <thead>\n",
       "    <tr style=\"text-align: right;\">\n",
       "      <th></th>\n",
       "      <th>Student Name</th>\n",
       "      <th>Sex</th>\n",
       "      <th>Age</th>\n",
       "      <th>School</th>\n",
       "    </tr>\n",
       "  </thead>\n",
       "  <tbody>\n",
       "    <tr>\n",
       "      <th>0</th>\n",
       "      <td>A</td>\n",
       "      <td>M</td>\n",
       "      <td>10</td>\n",
       "      <td>Primary</td>\n",
       "    </tr>\n",
       "    <tr>\n",
       "      <th>1</th>\n",
       "      <td>B</td>\n",
       "      <td>F</td>\n",
       "      <td>14</td>\n",
       "      <td>High</td>\n",
       "    </tr>\n",
       "    <tr>\n",
       "      <th>2</th>\n",
       "      <td>C</td>\n",
       "      <td>M</td>\n",
       "      <td>60</td>\n",
       "      <td>High</td>\n",
       "    </tr>\n",
       "    <tr>\n",
       "      <th>3</th>\n",
       "      <td>D</td>\n",
       "      <td>F</td>\n",
       "      <td>15</td>\n",
       "      <td>High</td>\n",
       "    </tr>\n",
       "    <tr>\n",
       "      <th>4</th>\n",
       "      <td>E</td>\n",
       "      <td>F</td>\n",
       "      <td>16</td>\n",
       "      <td>High</td>\n",
       "    </tr>\n",
       "    <tr>\n",
       "      <th>5</th>\n",
       "      <td>F</td>\n",
       "      <td>M</td>\n",
       "      <td>15</td>\n",
       "      <td>High</td>\n",
       "    </tr>\n",
       "    <tr>\n",
       "      <th>6</th>\n",
       "      <td>G</td>\n",
       "      <td>M</td>\n",
       "      <td>11</td>\n",
       "      <td>Primary</td>\n",
       "    </tr>\n",
       "  </tbody>\n",
       "</table>\n",
       "</div>"
      ],
      "text/plain": [
       "  Student Name Sex  Age   School\n",
       "0            A   M   10  Primary\n",
       "1            B   F   14     High\n",
       "2            C   M   60     High\n",
       "3            D   F   15     High\n",
       "4            E   F   16     High\n",
       "5            F   M   15     High\n",
       "6            G   M   11  Primary"
      ]
     },
     "execution_count": 2,
     "metadata": {},
     "output_type": "execute_result"
    }
   ],
   "source": [
    "#Data Set Example\n",
    "import pandas as pd\n",
    "student_frame = pd.DataFrame({'Student Name':\n",
    "['A','B','C', 'D','E','F','G'], 'Sex':['M','F','M','F','F'\n",
    ",'M','M'], 'Age': [10, 14, 60, 15, 16, 15, 11], 'School':\n",
    "['Primary','High', 'High', 'High', 'High','High',\n",
    "'Primary']}) \n",
    "student_frame"
   ]
  },
  {
   "cell_type": "markdown",
   "metadata": {},
   "source": [
    "We find the age of student C to be an expected value, i.e., 60 years. \n",
    "This is an error , and is considered as an outlier. \n",
    "We uses the #`describe() `function to  get the summary statistics of the table data"
   ]
  },
  {
   "cell_type": "code",
   "execution_count": 3,
   "metadata": {},
   "outputs": [
    {
     "data": {
      "text/html": [
       "<div>\n",
       "<style scoped>\n",
       "    .dataframe tbody tr th:only-of-type {\n",
       "        vertical-align: middle;\n",
       "    }\n",
       "\n",
       "    .dataframe tbody tr th {\n",
       "        vertical-align: top;\n",
       "    }\n",
       "\n",
       "    .dataframe thead th {\n",
       "        text-align: right;\n",
       "    }\n",
       "</style>\n",
       "<table border=\"1\" class=\"dataframe\">\n",
       "  <thead>\n",
       "    <tr style=\"text-align: right;\">\n",
       "      <th></th>\n",
       "      <th>Age</th>\n",
       "    </tr>\n",
       "  </thead>\n",
       "  <tbody>\n",
       "    <tr>\n",
       "      <th>count</th>\n",
       "      <td>7.000000</td>\n",
       "    </tr>\n",
       "    <tr>\n",
       "      <th>mean</th>\n",
       "      <td>20.142857</td>\n",
       "    </tr>\n",
       "    <tr>\n",
       "      <th>std</th>\n",
       "      <td>17.714670</td>\n",
       "    </tr>\n",
       "    <tr>\n",
       "      <th>min</th>\n",
       "      <td>10.000000</td>\n",
       "    </tr>\n",
       "    <tr>\n",
       "      <th>25%</th>\n",
       "      <td>12.500000</td>\n",
       "    </tr>\n",
       "    <tr>\n",
       "      <th>50%</th>\n",
       "      <td>15.000000</td>\n",
       "    </tr>\n",
       "    <tr>\n",
       "      <th>75%</th>\n",
       "      <td>15.500000</td>\n",
       "    </tr>\n",
       "    <tr>\n",
       "      <th>max</th>\n",
       "      <td>60.000000</td>\n",
       "    </tr>\n",
       "  </tbody>\n",
       "</table>\n",
       "</div>"
      ],
      "text/plain": [
       "             Age\n",
       "count   7.000000\n",
       "mean   20.142857\n",
       "std    17.714670\n",
       "min    10.000000\n",
       "25%    12.500000\n",
       "50%    15.000000\n",
       "75%    15.500000\n",
       "max    60.000000"
      ]
     },
     "execution_count": 3,
     "metadata": {},
     "output_type": "execute_result"
    }
   ],
   "source": [
    "student_frame.describe()"
   ]
  },
  {
   "cell_type": "markdown",
   "metadata": {},
   "source": [
    "The presence of outliers shifts the statistics. We expect the\n",
    "mean or the average age of students to be around 15 years.\\\n",
    "However, the average age of students is 20.142857 due to the\n",
    "presence of the outlier, i.e., 60 years. "
   ]
  },
  {
   "cell_type": "markdown",
   "metadata": {},
   "source": [
    "Sort your data from low to high.\\\n",
    "Identify the first quartile (Q1), the median, and the third quartile (Q3).\\\n",
    "Calculate your IQR = Q3 – Q1.\\\n",
    "Calculate your upper fence = Q3 + (1.5 * IQR)\\\n",
    "Calculate your lower fence = Q1 – (1.5 * IQR)\\\n",
    "IQR = 15.5 -12.5 =3\\\n",
    "60 is > 15.5 +(1.5 * 3)"
   ]
  },
  {
   "cell_type": "code",
   "execution_count": 7,
   "metadata": {},
   "outputs": [
    {
     "name": "stdout",
     "output_type": "stream",
     "text": [
      "Age    20.0\n",
      "dtype: float64\n",
      " The lowere limit is  Age    8.0\n",
      "dtype: float64\n",
      " The higher limit is  Age    20.0\n",
      "dtype: float64\n"
     ]
    }
   ],
   "source": [
    "Q1 = student_frame.quantile(0.25)   ## 25% (quartile 1)\n",
    "Q3 = student_frame.quantile(0.75)   ## 75% (quartile 3)\n",
    "\n",
    "\n",
    "IQR = Q3 - Q1\n",
    "IQR_mult = IQR * 1.5\n",
    "\n",
    "lower_bound = Q1 - IQR_mult\n",
    "higher_bound = Q3 + IQR_mult\n",
    "print(higher_bound)\n",
    "\n",
    "\n",
    "print(f\" The lowere limit is  {lower_bound}\\n The higher limit is  { higher_bound}\")"
   ]
  },
  {
   "cell_type": "markdown",
   "metadata": {},
   "source": [
    "**Now any value lesser than 8 or greater than 20 can be treated\n",
    "as an outlier.**"
   ]
  },
  {
   "cell_type": "markdown",
   "metadata": {},
   "source": [
    "Now, we are able to filter our DataFrame, student_frame, to \n",
    "remove outliers. We access the column Age using \n",
    "student_frame[‘Age’], and compare it with int(lower)."
   ]
  },
  {
   "cell_type": "markdown",
   "metadata": {},
   "source": []
  },
  {
   "cell_type": "code",
   "execution_count": 22,
   "metadata": {},
   "outputs": [
    {
     "ename": "TypeError",
     "evalue": "list indices must be integers or slices, not str",
     "output_type": "error",
     "traceback": [
      "\u001b[1;31m---------------------------------------------------------------------------\u001b[0m",
      "\u001b[1;31mTypeError\u001b[0m                                 Traceback (most recent call last)",
      "\u001b[1;32mc:\\Users\\hp\\Desktop\\Lero\\handling_unexpected_values\\unexpected_values.ipynb Cell 12'\u001b[0m in \u001b[0;36m<cell line: 1>\u001b[1;34m()\u001b[0m\n\u001b[1;32m----> <a href='vscode-notebook-cell:/c%3A/Users/hp/Desktop/Lero/handling_unexpected_values/unexpected_values.ipynb#ch0000018?line=0'>1</a>\u001b[0m student_frame_lower \u001b[39m=\u001b[39m student_frame[student_frame[\u001b[39m\"\u001b[39;49m\u001b[39mAge\u001b[39;49m\u001b[39m\"\u001b[39;49m] \u001b[39m>\u001b[39m \u001b[39mint\u001b[39m(lower_bound) ]\n\u001b[0;32m      <a href='vscode-notebook-cell:/c%3A/Users/hp/Desktop/Lero/handling_unexpected_values/unexpected_values.ipynb#ch0000018?line=2'>3</a>\u001b[0m student_frame_higher \u001b[39m=\u001b[39m student_frame[ student_frame[\u001b[39m\"\u001b[39m\u001b[39mAge\u001b[39m\u001b[39m\"\u001b[39m] \u001b[39m<\u001b[39m \u001b[39mint\u001b[39m(higher_bound) ]\n\u001b[0;32m      <a href='vscode-notebook-cell:/c%3A/Users/hp/Desktop/Lero/handling_unexpected_values/unexpected_values.ipynb#ch0000018?line=4'>5</a>\u001b[0m student \u001b[39m=\u001b[39m student_frame_lower\u001b[39m.\u001b[39mcombine_first(student_frame_higher, index\u001b[39m=\u001b[39m(\u001b[39mlist\u001b[39m(\u001b[39mrange\u001b[39m(\u001b[39m20\u001b[39m))))\n",
      "\u001b[1;31mTypeError\u001b[0m: list indices must be integers or slices, not str"
     ]
    }
   ],
   "source": [
    "student_frame_lower = student_frame[student_frame[\"Age\"] > int(lower_bound) ]\n",
    "\n",
    "student_frame_higher = student_frame[ student_frame[\"Age\"] < int(higher_bound) ]\n",
    "\n",
    "student = student_frame_lower.combine_first(student_frame_higher, index=(list(range(20))))\n"
   ]
  },
  {
   "cell_type": "code",
   "execution_count": null,
   "metadata": {},
   "outputs": [],
   "source": []
  }
 ],
 "metadata": {
  "interpreter": {
   "hash": "433c71e7cbe1d297b214140bef693683b2b4d2c4ece66900817174fa8d62bfe2"
  },
  "kernelspec": {
   "display_name": "Python 3.9.12 ('bookData')",
   "language": "python",
   "name": "python3"
  },
  "language_info": {
   "codemirror_mode": {
    "name": "ipython",
    "version": 3
   },
   "file_extension": ".py",
   "mimetype": "text/x-python",
   "name": "python",
   "nbconvert_exporter": "python",
   "pygments_lexer": "ipython3",
   "version": "3.9.12"
  },
  "orig_nbformat": 4
 },
 "nbformat": 4,
 "nbformat_minor": 2
}
