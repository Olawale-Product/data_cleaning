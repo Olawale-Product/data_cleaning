{
 "cells": [
  {
   "cell_type": "code",
   "execution_count": null,
   "metadata": {},
   "outputs": [],
   "source": [
    "import pandas as pd\n",
    "\n",
    "titanic_data = pd.read_csv(\"\")\n",
    "titanic_data.head()\n",
    "\n",
    "titanic_plclass1 = (titanic_data.Pclass  ==1)\n",
    "print(titanic_plclass1)\n",
    "titanic_plclass1_data = titanic_data[titanic_plclass1]\n",
    "titanic_plclass1_data.head()"
   ]
  },
  {
   "cell_type": "code",
   "execution_count": null,
   "metadata": {},
   "outputs": [],
   "source": []
  }
 ],
 "metadata": {
  "language_info": {
   "name": "python"
  },
  "orig_nbformat": 4
 },
 "nbformat": 4,
 "nbformat_minor": 2
}
