{
 "cells": [
  {
   "cell_type": "code",
   "execution_count": 1,
   "metadata": {},
   "outputs": [
    {
     "name": "stdout",
     "output_type": "stream",
     "text": [
      "Monday 1\n",
      "Tuesday 2\n",
      "Wednesday 3\n",
      "Thursday 4\n",
      "Friday 5\n",
      "Saturday 6\n",
      "Sunday 7\n"
     ]
    }
   ],
   "source": [
    "with open(\"days_of_the_week.txt\",\"r\") as myfile:\n",
    "    print(myfile.read())"
   ]
  },
  {
   "cell_type": "code",
   "execution_count": 2,
   "metadata": {},
   "outputs": [
    {
     "name": "stdout",
     "output_type": "stream",
     "text": [
      "Monday 1\n",
      "Tuesday 2\n",
      "We\n"
     ]
    }
   ],
   "source": [
    "myfile = open(\"days_of_the_week.txt\",\"r\")\n",
    "print(myfile.read(21))"
   ]
  },
  {
   "cell_type": "markdown",
   "metadata": {},
   "source": [
    "##Reading Individual Observations from the file\n",
    "\n"
   ]
  },
  {
   "cell_type": "code",
   "execution_count": 4,
   "metadata": {},
   "outputs": [
    {
     "name": "stdout",
     "output_type": "stream",
     "text": [
      " Reading observations from dataset Monday 1\n",
      "\n",
      " Reading observations from dataset Tuesday 2\n",
      "\n",
      " Reading observations from dataset Wednesday 3\n",
      "\n",
      " Reading observations from dataset Thursday 4\n",
      "\n",
      " Reading observations from dataset Friday 5\n",
      "\n",
      " Reading observations from dataset Saturday 6\n",
      "\n",
      " Reading observations from dataset Sunday 7\n"
     ]
    }
   ],
   "source": [
    "myfile = open(\"days_of_the_week.txt\",\"r\")\n",
    "for k in myfile:\n",
    "    print(f\" Reading observations from dataset {k}\")\n",
    "myfile.close()"
   ]
  },
  {
   "cell_type": "code",
   "execution_count": 5,
   "metadata": {},
   "outputs": [
    {
     "name": "stdout",
     "output_type": "stream",
     "text": [
      "Sampling rows 0 retrieved data Monday 1\n",
      "\n",
      "Sampling rows 3 retrieved data Thursday 4\n",
      "\n",
      "Sampling rows 6 retrieved data Sunday 7\n"
     ]
    }
   ],
   "source": [
    "sample_interval =3\n",
    "myfile =open(\"days_of_the_week.txt\",\"r\")\n",
    "for sample_count, data_content in enumerate(myfile):\n",
    "    if sample_count % 3 ==0:\n",
    "        print(f\"Sampling rows {sample_count} retrieved data { data_content}\")\n",
    "\n",
    "myfile.close()\n",
    "\n"
   ]
  },
  {
   "cell_type": "code",
   "execution_count": null,
   "metadata": {},
   "outputs": [],
   "source": []
  }
 ],
 "metadata": {
  "interpreter": {
   "hash": "433c71e7cbe1d297b214140bef693683b2b4d2c4ece66900817174fa8d62bfe2"
  },
  "kernelspec": {
   "display_name": "Python 3.9.12 ('bookData')",
   "language": "python",
   "name": "python3"
  },
  "language_info": {
   "codemirror_mode": {
    "name": "ipython",
    "version": 3
   },
   "file_extension": ".py",
   "mimetype": "text/x-python",
   "name": "python",
   "nbconvert_exporter": "python",
   "pygments_lexer": "ipython3",
   "version": "3.9.12"
  },
  "orig_nbformat": 4
 },
 "nbformat": 4,
 "nbformat_minor": 2
}
