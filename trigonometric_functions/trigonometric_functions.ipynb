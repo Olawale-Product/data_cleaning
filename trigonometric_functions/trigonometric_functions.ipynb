{
 "cells": [
  {
   "cell_type": "markdown",
   "metadata": {},
   "source": [
    "##  Reading from CSV and Excel Files"
   ]
  },
  {
   "cell_type": "code",
   "execution_count": 5,
   "metadata": {},
   "outputs": [
    {
     "name": "stdout",
     "output_type": "stream",
     "text": [
      "     Angle in degrees          Sine    Cosine      Tangente\n",
      "0                   0  0.000000e+00  1.000000  0.000000e+00\n",
      "1                   1  1.745241e-02  0.999848  1.745506e-02\n",
      "2                   2  3.489950e-02  0.999391  3.492077e-02\n",
      "3                   3  5.233596e-02  0.998630  5.240778e-02\n",
      "4                   4  6.975647e-02  0.997564  6.992681e-02\n",
      "..                ...           ...       ...           ...\n",
      "356               356 -6.975647e-02  0.997564 -6.992681e-02\n",
      "357               357 -5.233596e-02  0.998630 -5.240778e-02\n",
      "358               358 -3.489950e-02  0.999391 -3.492077e-02\n",
      "359               359 -1.745241e-02  0.999848 -1.745506e-02\n",
      "360               360 -2.450297e-16  1.000000 -2.450297e-16\n",
      "\n",
      "[361 rows x 4 columns]\n"
     ]
    }
   ],
   "source": [
    "import pandas as pd\n",
    "xl_file =pd.ExcelFile(\"trigonometric_functions.xlsx\")\n",
    "trig_values = xl_file.parse(\"Sheet1\")\n",
    "print(trig_values)"
   ]
  },
  {
   "cell_type": "code",
   "execution_count": null,
   "metadata": {
    "vscode": {
     "languageId": "html"
    }
   },
   "outputs": [],
   "source": []
  }
 ],
 "metadata": {
  "interpreter": {
   "hash": "433c71e7cbe1d297b214140bef693683b2b4d2c4ece66900817174fa8d62bfe2"
  },
  "kernelspec": {
   "display_name": "Python 3.9.12 ('bookData')",
   "language": "python",
   "name": "python3"
  },
  "language_info": {
   "codemirror_mode": {
    "name": "ipython",
    "version": 3
   },
   "file_extension": ".py",
   "mimetype": "text/x-python",
   "name": "python",
   "nbconvert_exporter": "python",
   "pygments_lexer": "ipython3",
   "version": "3.9.12"
  },
  "orig_nbformat": 4
 },
 "nbformat": 4,
 "nbformat_minor": 2
}
