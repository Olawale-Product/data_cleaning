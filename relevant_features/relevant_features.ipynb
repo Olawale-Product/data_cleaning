{
 "cells": [
  {
   "cell_type": "code",
   "execution_count": 11,
   "metadata": {},
   "outputs": [
    {
     "name": "stdout",
     "output_type": "stream",
     "text": [
      "The mean is = 5.43 \n",
      "The median is = 3.0 \n",
      " The mode is = 3 \n",
      "The range is = 25 nThe standard deviation is = 7.27 \n",
      "The variance is = 52.82\n"
     ]
    }
   ],
   "source": [
    "from statistics import mode\n",
    "toy_data = [3, 8, 1, 3, 6, 21, -4]\n",
    "# Calculating statistics\n",
    "mymean = np.mean(toy_data)\n",
    "mymedian = np.median(toy_data)\n",
    "mymode = mode(toy_data)\n",
    "myrange = np.max(toy_data)-np.min(toy_data)\n",
    "mystd= np.std(toy_data)\n",
    "myvar = np.var(toy_data)\n",
    "\n",
    "# Printing the results\n",
    "print('The mean is = %.2f' %mymean, '\\n'+\n",
    "'The median is =',mymedian, '\\n The mode is =',mymode,\n",
    "'\\nThe range is =',myrange, '\\\n",
    "nThe standard deviation is = %.2f'%mystd,\n",
    "'\\nThe variance is = %.2f'%myvar)"
   ]
  },
  {
   "cell_type": "code",
   "execution_count": 3,
   "metadata": {},
   "outputs": [
    {
     "name": "stdout",
     "output_type": "stream",
     "text": [
      "38\n",
      "[-4, 1, 3, 3, 6, 8, 21]\n"
     ]
    }
   ],
   "source": [
    "data = [3, 8, 1, 3, 6, 21, -4]\n",
    "print(sum(data))\n",
    "print(sorted(data))"
   ]
  },
  {
   "cell_type": "code",
   "execution_count": null,
   "metadata": {},
   "outputs": [],
   "source": []
  },
  {
   "cell_type": "code",
   "execution_count": 6,
   "metadata": {},
   "outputs": [
    {
     "data": {
      "text/plain": [
       "array([[ 1.        ,  3.25      ],\n",
       "       [ 3.25      , 11.58333333]])"
      ]
     },
     "execution_count": 6,
     "metadata": {},
     "output_type": "execute_result"
    }
   ],
   "source": [
    "import numpy as np\n",
    "mycov = np.cov([1, 2, 3], [1.0, 2.5, 7.5]) \n",
    "mycov"
   ]
  },
  {
   "cell_type": "code",
   "execution_count": 2,
   "metadata": {},
   "outputs": [],
   "source": [
    "import numpy as np\n",
    "import matplotlib.pyplot as plt\n",
    "import sklearn as sk\n",
    "from sklearn.linear_model import LinearRegression\n",
    "from sklearn.metrics import mean_squared_error"
   ]
  },
  {
   "cell_type": "code",
   "execution_count": 10,
   "metadata": {},
   "outputs": [
    {
     "name": "stdout",
     "output_type": "stream",
     "text": [
      "0.28011457875240847\n"
     ]
    }
   ],
   "source": [
    "x  = np.random.rand(100,1)\n",
    "\n",
    "\n",
    "y = - 3 * x + 5 + np.random.rand(100, 1) \n",
    "\n",
    "\n",
    "regress_model =LinearRegression()\n",
    "# Fit the data (train the model)\n",
    "regress_model.fit(x,y)\n",
    "\n",
    "# Predict output values from the input x.\n",
    "y_predicted = regress_model.predict(x)\n",
    "\n",
    "\n",
    "# Model evaluation by calculating root mean squared error{rsme}\n",
    "\n",
    "rmse = np.sqrt(mean_squared_error(y,y_predicted))\n",
    "print(rsme)\n",
    "\n"
   ]
  },
  {
   "cell_type": "code",
   "execution_count": 12,
   "metadata": {},
   "outputs": [
    {
     "name": "stdout",
     "output_type": "stream",
     "text": [
      "Slope: [[-2.94014418]]\n",
      "Intercept: [5.4824756]\n",
      "Root mean squared error:  0.32206110238903807\n"
     ]
    },
    {
     "data": {
      "image/png": "[encoded data removed]",
      "text/plain": [
       "<Figure size 432x288 with 1 Axes>"
      ]
     },
     "metadata": {
      "needs_background": "light"
     },
     "output_type": "display_data"
    }
   ],
   "source": [
    "# Printing values of the learned model\n",
    "print('Slope:' ,regress_model.coef_)\n",
    "print('Intercept:', regress_model.intercept_)\n",
    "print('Root mean squared error: ', rmse)\n",
    "# plotting data points \n",
    "plt.scatter(x, y, color=\"b\")\n",
    "plt.xlabel(\"X\")\n",
    "plt.ylabel(\"Y\")\n",
    "\n",
    "plt.plot(x,y_predicted, color=\"r\")\n",
    "plt.show()"
   ]
  },
  {
   "cell_type": "code",
   "execution_count": 13,
   "metadata": {},
   "outputs": [
    {
     "name": "stdout",
     "output_type": "stream",
     "text": [
      "\u001b[1;31mType:\u001b[0m        LinearRegression\n",
      "\u001b[1;31mString form:\u001b[0m LinearRegression()\n",
      "\u001b[1;31mFile:\u001b[0m        c:\\users\\hp\\anaconda3\\envs\\bookdata\\lib\\site-packages\\sklearn\\linear_model\\_base.py\n",
      "\u001b[1;31mDocstring:\u001b[0m  \n",
      "Ordinary least squares Linear Regression.\n",
      "\n",
      "LinearRegression fits a linear model with coefficients w = (w1, ..., wp)\n",
      "to minimize the residual sum of squares between the observed targets in\n",
      "the dataset, and the targets predicted by the linear approximation.\n",
      "\n",
      "Parameters\n",
      "----------\n",
      "fit_intercept : bool, default=True\n",
      "    Whether to calculate the intercept for this model. If set\n",
      "    to False, no intercept will be used in calculations\n",
      "    (i.e. data is expected to be centered).\n",
      "\n",
      "normalize : bool, default=False\n",
      "    This parameter is ignored when ``fit_intercept`` is set to False.\n",
      "    If True, the regressors X will be normalized before regression by\n",
      "    subtracting the mean and dividing by the l2-norm.\n",
      "    If you wish to standardize, please use\n",
      "    :class:`~sklearn.preprocessing.StandardScaler` before calling ``fit``\n",
      "    on an estimator with ``normalize=False``.\n",
      "\n",
      "copy_X : bool, default=True\n",
      "    If True, X will be copied; else, it may be overwritten.\n",
      "\n",
      "n_jobs : int, default=None\n",
      "    The number of jobs to use for the computation. This will only provide\n",
      "    speedup for n_targets > 1 and sufficient large problems.\n",
      "    ``None`` means 1 unless in a :obj:`joblib.parallel_backend` context.\n",
      "    ``-1`` means using all processors. See :term:`Glossary <n_jobs>`\n",
      "    for more details.\n",
      "\n",
      "positive : bool, default=False\n",
      "    When set to ``True``, forces the coefficients to be positive. This\n",
      "    option is only supported for dense arrays.\n",
      "\n",
      "    .. versionadded:: 0.24\n",
      "\n",
      "Attributes\n",
      "----------\n",
      "coef_ : array of shape (n_features, ) or (n_targets, n_features)\n",
      "    Estimated coefficients for the linear regression problem.\n",
      "    If multiple targets are passed during the fit (y 2D), this\n",
      "    is a 2D array of shape (n_targets, n_features), while if only\n",
      "    one target is passed, this is a 1D array of length n_features.\n",
      "\n",
      "rank_ : int\n",
      "    Rank of matrix `X`. Only available when `X` is dense.\n",
      "\n",
      "singular_ : array of shape (min(X, y),)\n",
      "    Singular values of `X`. Only available when `X` is dense.\n",
      "\n",
      "intercept_ : float or array of shape (n_targets,)\n",
      "    Independent term in the linear model. Set to 0.0 if\n",
      "    `fit_intercept = False`.\n",
      "\n",
      "See Also\n",
      "--------\n",
      "Ridge : Ridge regression addresses some of the\n",
      "    problems of Ordinary Least Squares by imposing a penalty on the\n",
      "    size of the coefficients with l2 regularization.\n",
      "Lasso : The Lasso is a linear model that estimates\n",
      "    sparse coefficients with l1 regularization.\n",
      "ElasticNet : Elastic-Net is a linear regression\n",
      "    model trained with both l1 and l2 -norm regularization of the\n",
      "    coefficients.\n",
      "\n",
      "Notes\n",
      "-----\n",
      "From the implementation point of view, this is just plain Ordinary\n",
      "Least Squares (scipy.linalg.lstsq) or Non Negative Least Squares\n",
      "(scipy.optimize.nnls) wrapped as a predictor object.\n",
      "\n",
      "Examples\n",
      "--------\n",
      ">>> import numpy as np\n",
      ">>> from sklearn.linear_model import LinearRegression\n",
      ">>> X = np.array([[1, 1], [1, 2], [2, 2], [2, 3]])\n",
      ">>> # y = 1 * x_0 + 2 * x_1 + 3\n",
      ">>> y = np.dot(X, np.array([1, 2])) + 3\n",
      ">>> reg = LinearRegression().fit(X, y)\n",
      ">>> reg.score(X, y)\n",
      "1.0\n",
      ">>> reg.coef_\n",
      "array([1., 2.])\n",
      ">>> reg.intercept_\n",
      "3.0...\n",
      ">>> reg.predict(np.array([[3, 5]]))\n",
      "array([16.])\n"
     ]
    }
   ],
   "source": [
    "regress_model?"
   ]
  },
  {
   "cell_type": "code",
   "execution_count": 15,
   "metadata": {},
   "outputs": [],
   "source": [
    "# Limitations: The main limitation of linear regression is the\n",
    "# assumption of linearity between the dependent variable and\n",
    "# the independent variables. In the real world, features may\n",
    "# not be linearly related to the output variable. In this case, we\n",
    "# have to use non-linear regression to model our dataset."
   ]
  },
  {
   "cell_type": "code",
   "execution_count": null,
   "metadata": {},
   "outputs": [],
   "source": []
  }
 ],
 "metadata": {
  "interpreter": {
   "hash": "433c71e7cbe1d297b214140bef693683b2b4d2c4ece66900817174fa8d62bfe2"
  },
  "kernelspec": {
   "display_name": "Python 3.9.12 ('bookData')",
   "language": "python",
   "name": "python3"
  },
  "language_info": {
   "codemirror_mode": {
    "name": "ipython",
    "version": 3
   },
   "file_extension": ".py",
   "mimetype": "text/x-python",
   "name": "python",
   "nbconvert_exporter": "python",
   "pygments_lexer": "ipython3",
   "version": "3.9.12"
  },
  "orig_nbformat": 4
 },
 "nbformat": 4,
 "nbformat_minor": 2
}
