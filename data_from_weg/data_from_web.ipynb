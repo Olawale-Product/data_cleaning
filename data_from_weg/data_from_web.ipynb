{
 "cells": [
  {
   "cell_type": "markdown",
   "metadata": {},
   "source": [
    "#   Getting Data From the Web"
   ]
  },
  {
   "cell_type": "code",
   "execution_count": 5,
   "metadata": {},
   "outputs": [
    {
     "name": "stdout",
     "output_type": "stream",
     "text": [
      "Buyers  ['Carson Busses', 'Earl E. Byrd', 'Patty Cakes', 'Derri Anne Connecticut', 'Moe Dess', 'Leda Doggslife', 'Dan Druff', 'Al Fresco', 'Ido Hoe', 'Howie Kisses', 'Len Lease', 'Phil Meup', 'Ira Pent', 'Ben D. Rules', 'Ave Sectomy', 'Gary Shattire', 'Bobbi Soks', 'Sheila Takya', 'Rose Tattoo', 'Moe Tell']\n",
      "price  ['$29.95', '$8.37', '$15.26', '$19.25', '$19.25', '$13.99', '$31.57', '$8.49', '$14.47', '$15.86', '$11.11', '$15.98', '$16.27', '$7.50', '$50.85', '$14.26', '$5.68', '$15.00', '$114.07', '$10.09']\n"
     ]
    }
   ],
   "source": [
    "from lxml import html\n",
    "import requests\n",
    "\n",
    "page = requests.get(\"http://econpy.pythonanywhere.com/ex/001.html\")\n",
    "\n",
    "tree = html.fromstring(page.content)\n",
    "\n",
    "buyers = tree.xpath(\"//div[@title='buyer-name']/text()\")\n",
    "price = tree.xpath(\"//span[@class='item-price']/text()\")\n",
    "\n",
    "print(f\"Buyers  {buyers}\")\n",
    "print(f\"price  {price}\")"
   ]
  },
  {
   "cell_type": "code",
   "execution_count": 8,
   "metadata": {},
   "outputs": [
    {
     "name": "stdout",
     "output_type": "stream",
     "text": [
      "      Employee Name    Specialization  Experience (years)\n",
      "One          Ashley            Python                   3\n",
      "Two             Tom      Data Science                   5\n",
      "Three          Jack  Data preparation                   8\n",
      "Four           John     Data Analysis                   2\n",
      "Five         Alicia  Machine Learning                   4\n"
     ]
    }
   ],
   "source": [
    "import numpy as np\n",
    "import pandas as pd\n",
    "\n",
    "mydata = {'Employee Name' : ['Ashley','Tom','Jack','John',\n",
    "'Alicia'],\n",
    "'Specialization' : ['Python','Data Science','Data preparation','Data Analysis','Machine Learning'],\n",
    "'Experience (years)' : [3,5,8,2,4]}\n",
    "myframe = pd.DataFrame(mydata, index=[\"One\",\"Two\",\"Three\",\"Four\",\"Five\"])\n",
    "\n",
    "print(myframe)"
   ]
  },
  {
   "cell_type": "code",
   "execution_count": 9,
   "metadata": {},
   "outputs": [
    {
     "name": "stdout",
     "output_type": "stream",
     "text": [
      "0    0.818655\n",
      "1    0.917340\n",
      "2    0.755924\n",
      "3    0.407615\n",
      "4    0.244067\n",
      "dtype: float64\n"
     ]
    }
   ],
   "source": [
    "myseries1 = pd.Series(np.random.rand(5),list(range(5)))\n",
    "print(myseries1)"
   ]
  },
  {
   "cell_type": "code",
   "execution_count": 10,
   "metadata": {},
   "outputs": [
    {
     "data": {
      "text/plain": [
       "1     50.0\n",
       "2     40.0\n",
       "3     30.0\n",
       "4     20.0\n",
       "5     10.0\n",
       "6    400.0\n",
       "dtype: float64"
      ]
     },
     "execution_count": 10,
     "metadata": {},
     "output_type": "execute_result"
    }
   ],
   "source": [
    "myseries1 = pd.Series([50, 40, 30, 20, 10], index=[1,2,3,4,5]) \n",
    "myseries2 = pd.Series([100, 200, 300, 400] ,index=[3,4,5,6])\n",
    "myseries1.combine_first(myseries2)"
   ]
  },
  {
   "cell_type": "code",
   "execution_count": null,
   "metadata": {},
   "outputs": [],
   "source": []
  }
 ],
 "metadata": {
  "interpreter": {
   "hash": "433c71e7cbe1d297b214140bef693683b2b4d2c4ece66900817174fa8d62bfe2"
  },
  "kernelspec": {
   "display_name": "Python 3.9.12 ('bookData')",
   "language": "python",
   "name": "python3"
  },
  "language_info": {
   "codemirror_mode": {
    "name": "ipython",
    "version": 3
   },
   "file_extension": ".py",
   "mimetype": "text/x-python",
   "name": "python",
   "nbconvert_exporter": "python",
   "pygments_lexer": "ipython3",
   "version": "3.9.12"
  },
  "orig_nbformat": 4
 },
 "nbformat": 4,
 "nbformat_minor": 2
}
